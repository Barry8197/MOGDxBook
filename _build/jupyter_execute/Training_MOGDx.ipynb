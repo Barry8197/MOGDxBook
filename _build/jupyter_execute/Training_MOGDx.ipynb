{
 "cells": [
  {
   "cell_type": "markdown",
   "id": "45c406b1",
   "metadata": {},
   "source": [
    "# MOGDx Main Functions and Classes\n",
    "We provide a description of the main functions and classes used to train a MOGDx model. \n",
    "\n",
    "## Graph Neural Network with Multi Modal Encoder (GNNMME)\n",
    "```{image} ./images/gcn-mme.png\n",
    ":alt: fishy\n",
    ":width: 1200px\n",
    ":align: left\n",
    "```\n",
    "\n",
    "### Multi Modal Encoder\n",
    "\n",
    "### Graph Convolutional Network \n",
    "```{image} ./images/gcn.png\n",
    ":alt: fishy\n",
    ":width: 1200px\n",
    ":align: left\n",
    "```\n",
    "\n",
    "### GraphSage\n",
    "```{image} ./images/gsage.png\n",
    ":alt: fishy\n",
    ":width: 1200px\n",
    ":align: left\n",
    "```\n",
    "\n",
    "## Training\n",
    "Functions used to train and evaluate the MOGDx model. The training implemented follows that outlined by {cite:p}`hamilton_graph_2020`.\n",
    "\n",
    "The list of functions are : \n",
    "- train\n",
    "- evaluate\n",
    "- confusion_matrix\n",
    "- AUROC\n",
    "\n",
    "## Utility\n",
    "Utility functions used to parse input data, load networks from csv or perform utility tasks. \n",
    "\n",
    "The list of functions are : \n",
    "- data_parsing\n",
    "- get_gpu_memory\n",
    "- indices_removal_adjust\n",
    "- network_from_csv\n",
    "\n",
    "## Citations\n",
    "```{bibliography}\n",
    "```"
   ]
  }
 ],
 "metadata": {
  "jupytext": {
   "formats": "md:myst",
   "text_representation": {
    "extension": ".md",
    "format_name": "myst",
    "format_version": 0.13,
    "jupytext_version": "1.11.5"
   }
  },
  "kernelspec": {
   "display_name": "Python 3",
   "language": "python",
   "name": "python3"
  },
  "language_info": {
   "codemirror_mode": {
    "name": "ipython",
    "version": 3
   },
   "file_extension": ".py",
   "mimetype": "text/x-python",
   "name": "python",
   "nbconvert_exporter": "python",
   "pygments_lexer": "ipython3",
   "version": "3.11.4"
  },
  "source_map": [
   13
  ]
 },
 "nbformat": 4,
 "nbformat_minor": 5
}